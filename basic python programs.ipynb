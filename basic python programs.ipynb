{
 "cells": [
  {
   "cell_type": "code",
   "execution_count": null,
   "metadata": {},
   "outputs": [],
   "source": [
    "import numpy as np\n",
    "import pandas as pd"
   ]
  },
  {
   "cell_type": "code",
   "execution_count": 1,
   "metadata": {},
   "outputs": [],
   "source": [
    "def order(n):\n",
    "    x=0\n",
    "    while n:\n",
    "        x+=1\n",
    "        n=n//10\n",
    "    return x\n"
   ]
  },
  {
   "cell_type": "code",
   "execution_count": 3,
   "metadata": {},
   "outputs": [
    {
     "name": "stdout",
     "output_type": "stream",
     "text": [
      "enter the number:124546\n",
      "it is not armstrong number\n"
     ]
    }
   ],
   "source": [
    "#find a given number is armstrong or not for any order n:\n",
    "n=int(input(\"enter the number:\"))\n",
    "temp=n\n",
    "arm=0\n",
    "dig=0\n",
    "cub=0\n",
    "o=order(n)\n",
    "while n!=0:\n",
    "    dig=n%10\n",
    "    arm=arm+dig**o\n",
    "    n=n//10\n",
    "if arm==temp:\n",
    "    print(\"the given number is armstrong number\")\n",
    "else:\n",
    "    print(\"it is not armstrong number\")\n"
   ]
  },
  {
   "cell_type": "code",
   "execution_count": null,
   "metadata": {},
   "outputs": [],
   "source": [
    "# for given n find even numbers that are divisible by 3 and display their sum\n",
    "n=int(input())\n",
    "a=[]\n",
    "b=[]\n",
    "sum=0\n",
    "for i in range(n):\n",
    "    if i%2==0:\n",
    "        a.append(i)\n",
    "    else:\n",
    "        continue\n",
    "print(a)\n",
    "for i in range(len(a)):\n",
    "    if a[i]%3==0:\n",
    "        b.append(a[i])\n",
    "for i in b:\n",
    "    sum=sum+i\n",
    "print(b)\n",
    "print(sum)"
   ]
  },
  {
   "cell_type": "code",
   "execution_count": null,
   "metadata": {},
   "outputs": [],
   "source": [
    "#reverse a given number\n",
    "n=int(input(\" enter a number:\"))\n",
    "rev=0\n",
    "dig=0\n",
    "temp=n\n",
    "while n!=0:\n",
    "    dig=n%10\n",
    "    rev=rev*10+dig\n",
    "    n=n//10\n",
    "print(\" the reverse of given number:{} is {}\".format(temp,rev))\n"
   ]
  },
  {
   "cell_type": "code",
   "execution_count": null,
   "metadata": {},
   "outputs": [],
   "source": [
    "#check whether given number is a palindrome or not\n",
    "n=int(input(\" enter a number:\"))\n",
    "rev=0\n",
    "dig=0\n",
    "temp=n\n",
    "while n!=0:\n",
    "    dig=n%10\n",
    "    rev=rev*10+dig\n",
    "    n=n//10\n",
    "if rev is temp:\n",
    "    print(\"number is palindrome\")\n",
    "else:\n",
    "    print(\"number is not palindrome\")"
   ]
  },
  {
   "cell_type": "code",
   "execution_count": 6,
   "metadata": {},
   "outputs": [
    {
     "name": "stdout",
     "output_type": "stream",
     "text": [
      "n:10\n",
      "the first 10 numbers  in  fibnocci sequence :\n",
      "0 1 1 2 3 5 8 13 21 34 55 89 "
     ]
    }
   ],
   "source": [
    "#generate a fibnocci sequence of first n numbers \n",
    "n=int(input(\"n:\"))\n",
    "print(\"the first {} numbers  in  fibnocci sequence :\".format(n))\n",
    "a=0\n",
    "b=1\n",
    "print(a,b,end=' ')\n",
    "for i in range(n):\n",
    "    c=a+b\n",
    "    print(c,end=' ')\n",
    "    a=b\n",
    "    b=c\n"
   ]
  },
  {
   "cell_type": "code",
   "execution_count": 9,
   "metadata": {},
   "outputs": [
    {
     "name": "stdout",
     "output_type": "stream",
     "text": [
      "n:0\n",
      "the factorial of 0 is 1\n"
     ]
    }
   ],
   "source": [
    "#find the factorial of given number\n",
    "n=int(input(\"n:\"))\n",
    "fact=1\n",
    "if n is 0 and n is 1:\n",
    "    print(1)\n",
    "else:\n",
    "    for i in range(1,n+1):\n",
    "        fact=fact*i\n",
    "print(\"the factorial of {} is {}\".format(n,fact))"
   ]
  },
  {
   "cell_type": "code",
   "execution_count": 15,
   "metadata": {},
   "outputs": [],
   "source": [
    "def gcd(a,b):\n",
    "    if b is 0:\n",
    "        return a\n",
    "    else:\n",
    "        return gcd(b,a%b)"
   ]
  },
  {
   "cell_type": "code",
   "execution_count": 17,
   "metadata": {},
   "outputs": [
    {
     "name": "stdout",
     "output_type": "stream",
     "text": [
      "a:36\n",
      "b:60\n",
      "the hcf of 36,60 is 12\n"
     ]
    }
   ],
   "source": [
    "\n",
    "    \n",
    "#hcf/gcd of the two numbers \n",
    "a=int(input(\"a:\"))\n",
    "b=int(input(\"b:\"))\n",
    "print(\"the hcf of {},{} is {}\".format(a,b,gcd(a,b)))"
   ]
  },
  {
   "cell_type": "code",
   "execution_count": 19,
   "metadata": {},
   "outputs": [
    {
     "name": "stdout",
     "output_type": "stream",
     "text": [
      "a:10\n",
      "b:5\n",
      "the lcm of 10,5 is 10.0\n"
     ]
    }
   ],
   "source": [
    "def lcm(a,b):\n",
    "    return (a*b)/gcd(a,b)\n",
    "\n",
    "a=int(input(\"a:\"))\n",
    "b=int(input(\"b:\"))\n",
    "print(\"the lcm of {},{} is {}\".format(a,b,lcm(a,b)))"
   ]
  },
  {
   "cell_type": "code",
   "execution_count": null,
   "metadata": {},
   "outputs": [],
   "source": []
  }
 ],
 "metadata": {
  "kernelspec": {
   "display_name": "Python 3",
   "language": "python",
   "name": "python3"
  },
  "language_info": {
   "codemirror_mode": {
    "name": "ipython",
    "version": 3
   },
   "file_extension": ".py",
   "mimetype": "text/x-python",
   "name": "python",
   "nbconvert_exporter": "python",
   "pygments_lexer": "ipython3",
   "version": "3.7.3"
  }
 },
 "nbformat": 4,
 "nbformat_minor": 2
}
